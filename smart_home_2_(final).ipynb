{
  "nbformat": 4,
  "nbformat_minor": 0,
  "metadata": {
    "colab": {
      "provenance": []
    },
    "kernelspec": {
      "name": "python3",
      "display_name": "Python 3"
    },
    "language_info": {
      "name": "python"
    }
  },
  "cells": [
    {
      "cell_type": "code",
      "execution_count": 1,
      "metadata": {
        "id": "tqkfK6SelNHX"
      },
      "outputs": [],
      "source": [
        "import numpy as np\n",
        "import pandas as pd\n",
        "import matplotlib.pyplot as plt\n",
        "import seaborn as sns"
      ]
    },
    {
      "cell_type": "code",
      "source": [
        "data = pd.read_csv(\"/content/drive/MyDrive/HomeC.csv\")"
      ],
      "metadata": {
        "colab": {
          "base_uri": "https://localhost:8080/"
        },
        "id": "pGuVS5zAlQ34",
        "outputId": "c301cf62-e285-40e8-e438-c18ee02604dd"
      },
      "execution_count": 2,
      "outputs": [
        {
          "output_type": "stream",
          "name": "stderr",
          "text": [
            "/usr/local/lib/python3.8/dist-packages/IPython/core/interactiveshell.py:3326: DtypeWarning: Columns (0,27) have mixed types.Specify dtype option on import or set low_memory=False.\n",
            "  exec(code_obj, self.user_global_ns, self.user_ns)\n"
          ]
        }
      ]
    },
    {
      "cell_type": "code",
      "source": [
        "data.head()"
      ],
      "metadata": {
        "colab": {
          "base_uri": "https://localhost:8080/",
          "height": 334
        },
        "id": "lvM38goIlZZs",
        "outputId": "1d359050-a353-4d67-837f-0afb271b32d5"
      },
      "execution_count": 3,
      "outputs": [
        {
          "output_type": "execute_result",
          "data": {
            "text/plain": [
              "         time  use [kW]  gen [kW]  House overall [kW]  Dishwasher [kW]  \\\n",
              "0  1451624400  0.932833  0.003483            0.932833         0.000033   \n",
              "1  1451624401  0.934333  0.003467            0.934333         0.000000   \n",
              "2  1451624402  0.931817  0.003467            0.931817         0.000017   \n",
              "3  1451624403  1.022050  0.003483            1.022050         0.000017   \n",
              "4  1451624404  1.139400  0.003467            1.139400         0.000133   \n",
              "\n",
              "   Furnace 1 [kW]  Furnace 2 [kW]  Home office [kW]  Fridge [kW]  \\\n",
              "0        0.020700        0.061917          0.442633     0.124150   \n",
              "1        0.020717        0.063817          0.444067     0.124000   \n",
              "2        0.020700        0.062317          0.446067     0.123533   \n",
              "3        0.106900        0.068517          0.446583     0.123133   \n",
              "4        0.236933        0.063983          0.446533     0.122850   \n",
              "\n",
              "   Wine cellar [kW]  ...  visibility  summary  apparentTemperature  pressure  \\\n",
              "0          0.006983  ...        10.0    Clear                29.26   1016.91   \n",
              "1          0.006983  ...        10.0    Clear                29.26   1016.91   \n",
              "2          0.006983  ...        10.0    Clear                29.26   1016.91   \n",
              "3          0.006983  ...        10.0    Clear                29.26   1016.91   \n",
              "4          0.006850  ...        10.0    Clear                29.26   1016.91   \n",
              "\n",
              "   windSpeed  cloudCover  windBearing  precipIntensity  dewPoint  \\\n",
              "0       9.18  cloudCover        282.0              0.0      24.4   \n",
              "1       9.18  cloudCover        282.0              0.0      24.4   \n",
              "2       9.18  cloudCover        282.0              0.0      24.4   \n",
              "3       9.18  cloudCover        282.0              0.0      24.4   \n",
              "4       9.18  cloudCover        282.0              0.0      24.4   \n",
              "\n",
              "   precipProbability  \n",
              "0                0.0  \n",
              "1                0.0  \n",
              "2                0.0  \n",
              "3                0.0  \n",
              "4                0.0  \n",
              "\n",
              "[5 rows x 32 columns]"
            ],
            "text/html": [
              "\n",
              "  <div id=\"df-0ca78fad-6337-4c96-8ec1-81de4fd991e6\">\n",
              "    <div class=\"colab-df-container\">\n",
              "      <div>\n",
              "<style scoped>\n",
              "    .dataframe tbody tr th:only-of-type {\n",
              "        vertical-align: middle;\n",
              "    }\n",
              "\n",
              "    .dataframe tbody tr th {\n",
              "        vertical-align: top;\n",
              "    }\n",
              "\n",
              "    .dataframe thead th {\n",
              "        text-align: right;\n",
              "    }\n",
              "</style>\n",
              "<table border=\"1\" class=\"dataframe\">\n",
              "  <thead>\n",
              "    <tr style=\"text-align: right;\">\n",
              "      <th></th>\n",
              "      <th>time</th>\n",
              "      <th>use [kW]</th>\n",
              "      <th>gen [kW]</th>\n",
              "      <th>House overall [kW]</th>\n",
              "      <th>Dishwasher [kW]</th>\n",
              "      <th>Furnace 1 [kW]</th>\n",
              "      <th>Furnace 2 [kW]</th>\n",
              "      <th>Home office [kW]</th>\n",
              "      <th>Fridge [kW]</th>\n",
              "      <th>Wine cellar [kW]</th>\n",
              "      <th>...</th>\n",
              "      <th>visibility</th>\n",
              "      <th>summary</th>\n",
              "      <th>apparentTemperature</th>\n",
              "      <th>pressure</th>\n",
              "      <th>windSpeed</th>\n",
              "      <th>cloudCover</th>\n",
              "      <th>windBearing</th>\n",
              "      <th>precipIntensity</th>\n",
              "      <th>dewPoint</th>\n",
              "      <th>precipProbability</th>\n",
              "    </tr>\n",
              "  </thead>\n",
              "  <tbody>\n",
              "    <tr>\n",
              "      <th>0</th>\n",
              "      <td>1451624400</td>\n",
              "      <td>0.932833</td>\n",
              "      <td>0.003483</td>\n",
              "      <td>0.932833</td>\n",
              "      <td>0.000033</td>\n",
              "      <td>0.020700</td>\n",
              "      <td>0.061917</td>\n",
              "      <td>0.442633</td>\n",
              "      <td>0.124150</td>\n",
              "      <td>0.006983</td>\n",
              "      <td>...</td>\n",
              "      <td>10.0</td>\n",
              "      <td>Clear</td>\n",
              "      <td>29.26</td>\n",
              "      <td>1016.91</td>\n",
              "      <td>9.18</td>\n",
              "      <td>cloudCover</td>\n",
              "      <td>282.0</td>\n",
              "      <td>0.0</td>\n",
              "      <td>24.4</td>\n",
              "      <td>0.0</td>\n",
              "    </tr>\n",
              "    <tr>\n",
              "      <th>1</th>\n",
              "      <td>1451624401</td>\n",
              "      <td>0.934333</td>\n",
              "      <td>0.003467</td>\n",
              "      <td>0.934333</td>\n",
              "      <td>0.000000</td>\n",
              "      <td>0.020717</td>\n",
              "      <td>0.063817</td>\n",
              "      <td>0.444067</td>\n",
              "      <td>0.124000</td>\n",
              "      <td>0.006983</td>\n",
              "      <td>...</td>\n",
              "      <td>10.0</td>\n",
              "      <td>Clear</td>\n",
              "      <td>29.26</td>\n",
              "      <td>1016.91</td>\n",
              "      <td>9.18</td>\n",
              "      <td>cloudCover</td>\n",
              "      <td>282.0</td>\n",
              "      <td>0.0</td>\n",
              "      <td>24.4</td>\n",
              "      <td>0.0</td>\n",
              "    </tr>\n",
              "    <tr>\n",
              "      <th>2</th>\n",
              "      <td>1451624402</td>\n",
              "      <td>0.931817</td>\n",
              "      <td>0.003467</td>\n",
              "      <td>0.931817</td>\n",
              "      <td>0.000017</td>\n",
              "      <td>0.020700</td>\n",
              "      <td>0.062317</td>\n",
              "      <td>0.446067</td>\n",
              "      <td>0.123533</td>\n",
              "      <td>0.006983</td>\n",
              "      <td>...</td>\n",
              "      <td>10.0</td>\n",
              "      <td>Clear</td>\n",
              "      <td>29.26</td>\n",
              "      <td>1016.91</td>\n",
              "      <td>9.18</td>\n",
              "      <td>cloudCover</td>\n",
              "      <td>282.0</td>\n",
              "      <td>0.0</td>\n",
              "      <td>24.4</td>\n",
              "      <td>0.0</td>\n",
              "    </tr>\n",
              "    <tr>\n",
              "      <th>3</th>\n",
              "      <td>1451624403</td>\n",
              "      <td>1.022050</td>\n",
              "      <td>0.003483</td>\n",
              "      <td>1.022050</td>\n",
              "      <td>0.000017</td>\n",
              "      <td>0.106900</td>\n",
              "      <td>0.068517</td>\n",
              "      <td>0.446583</td>\n",
              "      <td>0.123133</td>\n",
              "      <td>0.006983</td>\n",
              "      <td>...</td>\n",
              "      <td>10.0</td>\n",
              "      <td>Clear</td>\n",
              "      <td>29.26</td>\n",
              "      <td>1016.91</td>\n",
              "      <td>9.18</td>\n",
              "      <td>cloudCover</td>\n",
              "      <td>282.0</td>\n",
              "      <td>0.0</td>\n",
              "      <td>24.4</td>\n",
              "      <td>0.0</td>\n",
              "    </tr>\n",
              "    <tr>\n",
              "      <th>4</th>\n",
              "      <td>1451624404</td>\n",
              "      <td>1.139400</td>\n",
              "      <td>0.003467</td>\n",
              "      <td>1.139400</td>\n",
              "      <td>0.000133</td>\n",
              "      <td>0.236933</td>\n",
              "      <td>0.063983</td>\n",
              "      <td>0.446533</td>\n",
              "      <td>0.122850</td>\n",
              "      <td>0.006850</td>\n",
              "      <td>...</td>\n",
              "      <td>10.0</td>\n",
              "      <td>Clear</td>\n",
              "      <td>29.26</td>\n",
              "      <td>1016.91</td>\n",
              "      <td>9.18</td>\n",
              "      <td>cloudCover</td>\n",
              "      <td>282.0</td>\n",
              "      <td>0.0</td>\n",
              "      <td>24.4</td>\n",
              "      <td>0.0</td>\n",
              "    </tr>\n",
              "  </tbody>\n",
              "</table>\n",
              "<p>5 rows × 32 columns</p>\n",
              "</div>\n",
              "      <button class=\"colab-df-convert\" onclick=\"convertToInteractive('df-0ca78fad-6337-4c96-8ec1-81de4fd991e6')\"\n",
              "              title=\"Convert this dataframe to an interactive table.\"\n",
              "              style=\"display:none;\">\n",
              "        \n",
              "  <svg xmlns=\"http://www.w3.org/2000/svg\" height=\"24px\"viewBox=\"0 0 24 24\"\n",
              "       width=\"24px\">\n",
              "    <path d=\"M0 0h24v24H0V0z\" fill=\"none\"/>\n",
              "    <path d=\"M18.56 5.44l.94 2.06.94-2.06 2.06-.94-2.06-.94-.94-2.06-.94 2.06-2.06.94zm-11 1L8.5 8.5l.94-2.06 2.06-.94-2.06-.94L8.5 2.5l-.94 2.06-2.06.94zm10 10l.94 2.06.94-2.06 2.06-.94-2.06-.94-.94-2.06-.94 2.06-2.06.94z\"/><path d=\"M17.41 7.96l-1.37-1.37c-.4-.4-.92-.59-1.43-.59-.52 0-1.04.2-1.43.59L10.3 9.45l-7.72 7.72c-.78.78-.78 2.05 0 2.83L4 21.41c.39.39.9.59 1.41.59.51 0 1.02-.2 1.41-.59l7.78-7.78 2.81-2.81c.8-.78.8-2.07 0-2.86zM5.41 20L4 18.59l7.72-7.72 1.47 1.35L5.41 20z\"/>\n",
              "  </svg>\n",
              "      </button>\n",
              "      \n",
              "  <style>\n",
              "    .colab-df-container {\n",
              "      display:flex;\n",
              "      flex-wrap:wrap;\n",
              "      gap: 12px;\n",
              "    }\n",
              "\n",
              "    .colab-df-convert {\n",
              "      background-color: #E8F0FE;\n",
              "      border: none;\n",
              "      border-radius: 50%;\n",
              "      cursor: pointer;\n",
              "      display: none;\n",
              "      fill: #1967D2;\n",
              "      height: 32px;\n",
              "      padding: 0 0 0 0;\n",
              "      width: 32px;\n",
              "    }\n",
              "\n",
              "    .colab-df-convert:hover {\n",
              "      background-color: #E2EBFA;\n",
              "      box-shadow: 0px 1px 2px rgba(60, 64, 67, 0.3), 0px 1px 3px 1px rgba(60, 64, 67, 0.15);\n",
              "      fill: #174EA6;\n",
              "    }\n",
              "\n",
              "    [theme=dark] .colab-df-convert {\n",
              "      background-color: #3B4455;\n",
              "      fill: #D2E3FC;\n",
              "    }\n",
              "\n",
              "    [theme=dark] .colab-df-convert:hover {\n",
              "      background-color: #434B5C;\n",
              "      box-shadow: 0px 1px 3px 1px rgba(0, 0, 0, 0.15);\n",
              "      filter: drop-shadow(0px 1px 2px rgba(0, 0, 0, 0.3));\n",
              "      fill: #FFFFFF;\n",
              "    }\n",
              "  </style>\n",
              "\n",
              "      <script>\n",
              "        const buttonEl =\n",
              "          document.querySelector('#df-0ca78fad-6337-4c96-8ec1-81de4fd991e6 button.colab-df-convert');\n",
              "        buttonEl.style.display =\n",
              "          google.colab.kernel.accessAllowed ? 'block' : 'none';\n",
              "\n",
              "        async function convertToInteractive(key) {\n",
              "          const element = document.querySelector('#df-0ca78fad-6337-4c96-8ec1-81de4fd991e6');\n",
              "          const dataTable =\n",
              "            await google.colab.kernel.invokeFunction('convertToInteractive',\n",
              "                                                     [key], {});\n",
              "          if (!dataTable) return;\n",
              "\n",
              "          const docLinkHtml = 'Like what you see? Visit the ' +\n",
              "            '<a target=\"_blank\" href=https://colab.research.google.com/notebooks/data_table.ipynb>data table notebook</a>'\n",
              "            + ' to learn more about interactive tables.';\n",
              "          element.innerHTML = '';\n",
              "          dataTable['output_type'] = 'display_data';\n",
              "          await google.colab.output.renderOutput(dataTable, element);\n",
              "          const docLink = document.createElement('div');\n",
              "          docLink.innerHTML = docLinkHtml;\n",
              "          element.appendChild(docLink);\n",
              "        }\n",
              "      </script>\n",
              "    </div>\n",
              "  </div>\n",
              "  "
            ]
          },
          "metadata": {},
          "execution_count": 3
        }
      ]
    },
    {
      "cell_type": "code",
      "source": [
        "data['time'] = pd.DatetimeIndex(pd.date_range('2016-01-01 05:00', periods=len(data),  freq='min'))\n",
        "pd.to_datetime(data['time'], unit='s');"
      ],
      "metadata": {
        "id": "9bHQSqL4lcOj"
      },
      "execution_count": 4,
      "outputs": []
    },
    {
      "cell_type": "code",
      "source": [
        "data.columns"
      ],
      "metadata": {
        "colab": {
          "base_uri": "https://localhost:8080/"
        },
        "id": "AurlkF78sm5h",
        "outputId": "d83bac27-3c59-4d6d-a45d-deb17d782d71"
      },
      "execution_count": 5,
      "outputs": [
        {
          "output_type": "execute_result",
          "data": {
            "text/plain": [
              "Index(['time', 'use [kW]', 'gen [kW]', 'House overall [kW]', 'Dishwasher [kW]',\n",
              "       'Furnace 1 [kW]', 'Furnace 2 [kW]', 'Home office [kW]', 'Fridge [kW]',\n",
              "       'Wine cellar [kW]', 'Garage door [kW]', 'Kitchen 12 [kW]',\n",
              "       'Kitchen 14 [kW]', 'Kitchen 38 [kW]', 'Barn [kW]', 'Well [kW]',\n",
              "       'Microwave [kW]', 'Living room [kW]', 'Solar [kW]', 'temperature',\n",
              "       'icon', 'humidity', 'visibility', 'summary', 'apparentTemperature',\n",
              "       'pressure', 'windSpeed', 'cloudCover', 'windBearing', 'precipIntensity',\n",
              "       'dewPoint', 'precipProbability'],\n",
              "      dtype='object')"
            ]
          },
          "metadata": {},
          "execution_count": 5
        }
      ]
    },
    {
      "cell_type": "markdown",
      "source": [
        "# month separation"
      ],
      "metadata": {
        "id": "pXqmADEvo1OJ"
      }
    },
    {
      "cell_type": "code",
      "source": [
        "data['month'] = pd.DatetimeIndex(data['time']).month\n",
        "data['Day'] = pd.DatetimeIndex(data['time']).day\n",
        "data.dropna(inplace=True)"
      ],
      "metadata": {
        "id": "rLLxWNPTmywD"
      },
      "execution_count": 6,
      "outputs": []
    },
    {
      "cell_type": "code",
      "source": [
        "train=data"
      ],
      "metadata": {
        "id": "vfegrCL3o6EV"
      },
      "execution_count": 7,
      "outputs": []
    },
    {
      "cell_type": "code",
      "source": [
        "\n",
        "l=[]\n",
        "l2=[]\n",
        "for j in range (1,13):\n",
        "  train = data.loc[data['month']==j]\n",
        "  #print(train)\n",
        "\n",
        "  # #print(train['Day'].max())\n",
        "  for i in range(1,(train['Day'].max())):\n",
        "    #print(j)\n",
        "    summ=train[train['Day']==i].loc[:,['use [kW]', 'gen [kW]', 'House overall [kW]', 'Dishwasher [kW]',\n",
        "       'Furnace 1 [kW]', 'Furnace 2 [kW]', 'Home office [kW]', 'Fridge [kW]',\n",
        "       'Wine cellar [kW]', 'Garage door [kW]', 'Kitchen 12 [kW]',\n",
        "       'Kitchen 14 [kW]', 'Kitchen 38 [kW]', 'Barn [kW]', 'Well [kW]',\n",
        "       'Microwave [kW]', 'Living room [kW]']].sum()\n",
        "    summ.to_frame().reset_index()\n",
        "    summ['month']=j\n",
        "    summ['day']=i\n",
        "    \n",
        "    l.append(summ)\n",
        "    averages=train[train['Day']==i].loc[:,['temperature','humidity']].mean()\n",
        "    averages.to_frame().reset_index()\n",
        "    l2.append(averages)\n",
        "\n",
        "  \n",
        "\n",
        "\n",
        "\n",
        "    \n",
        "    #print()\n",
        "    #print(averages)"
      ],
      "metadata": {
        "id": "zd_fSAwiv7RS"
      },
      "execution_count": 11,
      "outputs": []
    },
    {
      "cell_type": "code",
      "source": [
        "vertical_concat = pd.concat((l[i]  for i in range(len(l))), axis=1)"
      ],
      "metadata": {
        "id": "-hqvWWdiwxqr"
      },
      "execution_count": 12,
      "outputs": []
    },
    {
      "cell_type": "code",
      "source": [
        "average = pd.concat((l2[i]  for i in range(len(l2))), axis=1)"
      ],
      "metadata": {
        "id": "iElBlX9x5vjW"
      },
      "execution_count": 13,
      "outputs": []
    },
    {
      "cell_type": "code",
      "source": [
        "average.head()"
      ],
      "metadata": {
        "colab": {
          "base_uri": "https://localhost:8080/",
          "height": 205
        },
        "id": "KAMyoViy5vt0",
        "outputId": "b5678cbc-0d86-44b1-e346-565be1243a90"
      },
      "execution_count": 14,
      "outputs": [
        {
          "output_type": "execute_result",
          "data": {
            "text/plain": [
              "                   0          1          2          3          4          5    \\\n",
              "temperature  35.725737  31.692569  33.273625  22.297722  11.950139  19.975833   \n",
              "humidity      0.631825   0.580056   0.613597   0.598597   0.535292   0.572986   \n",
              "\n",
              "                   6          7          8          9    ...        329  \\\n",
              "temperature  23.332667  29.488389  37.799556  45.367097  ...  19.968528   \n",
              "humidity      0.622042   0.717472   0.797667   0.842292  ...   0.613424   \n",
              "\n",
              "                   330        331        332        333        334        335  \\\n",
              "temperature  28.520021  34.485486  34.945208  38.084437  26.570861  43.898000   \n",
              "humidity      0.727167   0.694896   0.690097   0.753056   0.540438   0.792965   \n",
              "\n",
              "                   336        337        338  \n",
              "temperature  35.555826  29.963292  32.682153  \n",
              "humidity      0.617097   0.782819   0.753951  \n",
              "\n",
              "[2 rows x 339 columns]"
            ],
            "text/html": [
              "\n",
              "  <div id=\"df-70a95876-62e5-4b5f-b8fb-89991a13c04e\">\n",
              "    <div class=\"colab-df-container\">\n",
              "      <div>\n",
              "<style scoped>\n",
              "    .dataframe tbody tr th:only-of-type {\n",
              "        vertical-align: middle;\n",
              "    }\n",
              "\n",
              "    .dataframe tbody tr th {\n",
              "        vertical-align: top;\n",
              "    }\n",
              "\n",
              "    .dataframe thead th {\n",
              "        text-align: right;\n",
              "    }\n",
              "</style>\n",
              "<table border=\"1\" class=\"dataframe\">\n",
              "  <thead>\n",
              "    <tr style=\"text-align: right;\">\n",
              "      <th></th>\n",
              "      <th>0</th>\n",
              "      <th>1</th>\n",
              "      <th>2</th>\n",
              "      <th>3</th>\n",
              "      <th>4</th>\n",
              "      <th>5</th>\n",
              "      <th>6</th>\n",
              "      <th>7</th>\n",
              "      <th>8</th>\n",
              "      <th>9</th>\n",
              "      <th>...</th>\n",
              "      <th>329</th>\n",
              "      <th>330</th>\n",
              "      <th>331</th>\n",
              "      <th>332</th>\n",
              "      <th>333</th>\n",
              "      <th>334</th>\n",
              "      <th>335</th>\n",
              "      <th>336</th>\n",
              "      <th>337</th>\n",
              "      <th>338</th>\n",
              "    </tr>\n",
              "  </thead>\n",
              "  <tbody>\n",
              "    <tr>\n",
              "      <th>temperature</th>\n",
              "      <td>35.725737</td>\n",
              "      <td>31.692569</td>\n",
              "      <td>33.273625</td>\n",
              "      <td>22.297722</td>\n",
              "      <td>11.950139</td>\n",
              "      <td>19.975833</td>\n",
              "      <td>23.332667</td>\n",
              "      <td>29.488389</td>\n",
              "      <td>37.799556</td>\n",
              "      <td>45.367097</td>\n",
              "      <td>...</td>\n",
              "      <td>19.968528</td>\n",
              "      <td>28.520021</td>\n",
              "      <td>34.485486</td>\n",
              "      <td>34.945208</td>\n",
              "      <td>38.084437</td>\n",
              "      <td>26.570861</td>\n",
              "      <td>43.898000</td>\n",
              "      <td>35.555826</td>\n",
              "      <td>29.963292</td>\n",
              "      <td>32.682153</td>\n",
              "    </tr>\n",
              "    <tr>\n",
              "      <th>humidity</th>\n",
              "      <td>0.631825</td>\n",
              "      <td>0.580056</td>\n",
              "      <td>0.613597</td>\n",
              "      <td>0.598597</td>\n",
              "      <td>0.535292</td>\n",
              "      <td>0.572986</td>\n",
              "      <td>0.622042</td>\n",
              "      <td>0.717472</td>\n",
              "      <td>0.797667</td>\n",
              "      <td>0.842292</td>\n",
              "      <td>...</td>\n",
              "      <td>0.613424</td>\n",
              "      <td>0.727167</td>\n",
              "      <td>0.694896</td>\n",
              "      <td>0.690097</td>\n",
              "      <td>0.753056</td>\n",
              "      <td>0.540438</td>\n",
              "      <td>0.792965</td>\n",
              "      <td>0.617097</td>\n",
              "      <td>0.782819</td>\n",
              "      <td>0.753951</td>\n",
              "    </tr>\n",
              "  </tbody>\n",
              "</table>\n",
              "<p>2 rows × 339 columns</p>\n",
              "</div>\n",
              "      <button class=\"colab-df-convert\" onclick=\"convertToInteractive('df-70a95876-62e5-4b5f-b8fb-89991a13c04e')\"\n",
              "              title=\"Convert this dataframe to an interactive table.\"\n",
              "              style=\"display:none;\">\n",
              "        \n",
              "  <svg xmlns=\"http://www.w3.org/2000/svg\" height=\"24px\"viewBox=\"0 0 24 24\"\n",
              "       width=\"24px\">\n",
              "    <path d=\"M0 0h24v24H0V0z\" fill=\"none\"/>\n",
              "    <path d=\"M18.56 5.44l.94 2.06.94-2.06 2.06-.94-2.06-.94-.94-2.06-.94 2.06-2.06.94zm-11 1L8.5 8.5l.94-2.06 2.06-.94-2.06-.94L8.5 2.5l-.94 2.06-2.06.94zm10 10l.94 2.06.94-2.06 2.06-.94-2.06-.94-.94-2.06-.94 2.06-2.06.94z\"/><path d=\"M17.41 7.96l-1.37-1.37c-.4-.4-.92-.59-1.43-.59-.52 0-1.04.2-1.43.59L10.3 9.45l-7.72 7.72c-.78.78-.78 2.05 0 2.83L4 21.41c.39.39.9.59 1.41.59.51 0 1.02-.2 1.41-.59l7.78-7.78 2.81-2.81c.8-.78.8-2.07 0-2.86zM5.41 20L4 18.59l7.72-7.72 1.47 1.35L5.41 20z\"/>\n",
              "  </svg>\n",
              "      </button>\n",
              "      \n",
              "  <style>\n",
              "    .colab-df-container {\n",
              "      display:flex;\n",
              "      flex-wrap:wrap;\n",
              "      gap: 12px;\n",
              "    }\n",
              "\n",
              "    .colab-df-convert {\n",
              "      background-color: #E8F0FE;\n",
              "      border: none;\n",
              "      border-radius: 50%;\n",
              "      cursor: pointer;\n",
              "      display: none;\n",
              "      fill: #1967D2;\n",
              "      height: 32px;\n",
              "      padding: 0 0 0 0;\n",
              "      width: 32px;\n",
              "    }\n",
              "\n",
              "    .colab-df-convert:hover {\n",
              "      background-color: #E2EBFA;\n",
              "      box-shadow: 0px 1px 2px rgba(60, 64, 67, 0.3), 0px 1px 3px 1px rgba(60, 64, 67, 0.15);\n",
              "      fill: #174EA6;\n",
              "    }\n",
              "\n",
              "    [theme=dark] .colab-df-convert {\n",
              "      background-color: #3B4455;\n",
              "      fill: #D2E3FC;\n",
              "    }\n",
              "\n",
              "    [theme=dark] .colab-df-convert:hover {\n",
              "      background-color: #434B5C;\n",
              "      box-shadow: 0px 1px 3px 1px rgba(0, 0, 0, 0.15);\n",
              "      filter: drop-shadow(0px 1px 2px rgba(0, 0, 0, 0.3));\n",
              "      fill: #FFFFFF;\n",
              "    }\n",
              "  </style>\n",
              "\n",
              "      <script>\n",
              "        const buttonEl =\n",
              "          document.querySelector('#df-70a95876-62e5-4b5f-b8fb-89991a13c04e button.colab-df-convert');\n",
              "        buttonEl.style.display =\n",
              "          google.colab.kernel.accessAllowed ? 'block' : 'none';\n",
              "\n",
              "        async function convertToInteractive(key) {\n",
              "          const element = document.querySelector('#df-70a95876-62e5-4b5f-b8fb-89991a13c04e');\n",
              "          const dataTable =\n",
              "            await google.colab.kernel.invokeFunction('convertToInteractive',\n",
              "                                                     [key], {});\n",
              "          if (!dataTable) return;\n",
              "\n",
              "          const docLinkHtml = 'Like what you see? Visit the ' +\n",
              "            '<a target=\"_blank\" href=https://colab.research.google.com/notebooks/data_table.ipynb>data table notebook</a>'\n",
              "            + ' to learn more about interactive tables.';\n",
              "          element.innerHTML = '';\n",
              "          dataTable['output_type'] = 'display_data';\n",
              "          await google.colab.output.renderOutput(dataTable, element);\n",
              "          const docLink = document.createElement('div');\n",
              "          docLink.innerHTML = docLinkHtml;\n",
              "          element.appendChild(docLink);\n",
              "        }\n",
              "      </script>\n",
              "    </div>\n",
              "  </div>\n",
              "  "
            ]
          },
          "metadata": {},
          "execution_count": 14
        }
      ]
    },
    {
      "cell_type": "code",
      "source": [
        "average.index"
      ],
      "metadata": {
        "colab": {
          "base_uri": "https://localhost:8080/"
        },
        "id": "RVw9B_iNPFzv",
        "outputId": "bf7bac82-f3d4-4f6a-89ba-d51897e016ec"
      },
      "execution_count": 15,
      "outputs": [
        {
          "output_type": "execute_result",
          "data": {
            "text/plain": [
              "Index(['temperature', 'humidity'], dtype='object')"
            ]
          },
          "metadata": {},
          "execution_count": 15
        }
      ]
    },
    {
      "cell_type": "code",
      "source": [
        "df1=average.T\n",
        "df2=vertical_concat.T"
      ],
      "metadata": {
        "id": "1E_XOeyx5vx-"
      },
      "execution_count": 16,
      "outputs": []
    },
    {
      "cell_type": "code",
      "source": [
        "omnia=df1.join(df2)\n",
        "\n",
        "target=omnia['use [kW]']\n",
        "features=omnia.drop(['use [kW]','gen [kW]', 'House overall [kW]',\n",
        "       'Furnace 1 [kW]', 'Home office [kW]',\n",
        "       'Wine cellar [kW]', 'Kitchen 12 [kW]', 'Kitchen 38 [kW]', 'Well [kW]',\n",
        "       'Living room [kW]','day'],axis = 1)\n",
        "\n",
        "features.head()"
      ],
      "metadata": {
        "colab": {
          "base_uri": "https://localhost:8080/",
          "height": 206
        },
        "id": "rg9gHJUfB3IA",
        "outputId": "ffd2efe7-85ad-4cb5-d4d0-4812fd144060"
      },
      "execution_count": 17,
      "outputs": [
        {
          "output_type": "execute_result",
          "data": {
            "text/plain": [
              "   temperature  humidity  Dishwasher [kW]  Furnace 2 [kW]  Fridge [kW]  \\\n",
              "0    35.725737  0.631825        59.517171      260.196833    94.740300   \n",
              "1    31.692569  0.580056        63.154404      359.091400    74.851733   \n",
              "2    33.273625  0.613597       105.508668      338.935050    92.149033   \n",
              "3    22.297722  0.598597        58.880760      318.407883    71.016683   \n",
              "4    11.950139  0.535292        72.973254      387.997850    80.135633   \n",
              "\n",
              "   Garage door [kW]  Kitchen 14 [kW]   Barn [kW]  Microwave [kW]  month  \n",
              "0         15.228367        10.935817   99.622950       12.961117    1.0  \n",
              "1         19.246333        14.503251  185.776967       12.480300    1.0  \n",
              "2         19.444933        18.030351  146.493667       19.066117    1.0  \n",
              "3         19.249983        16.210219   47.837017       20.249933    1.0  \n",
              "4         19.773067        13.866869   50.166067       16.658967    1.0  "
            ],
            "text/html": [
              "\n",
              "  <div id=\"df-7b0215c9-6550-4a58-a957-02a875ea1eeb\">\n",
              "    <div class=\"colab-df-container\">\n",
              "      <div>\n",
              "<style scoped>\n",
              "    .dataframe tbody tr th:only-of-type {\n",
              "        vertical-align: middle;\n",
              "    }\n",
              "\n",
              "    .dataframe tbody tr th {\n",
              "        vertical-align: top;\n",
              "    }\n",
              "\n",
              "    .dataframe thead th {\n",
              "        text-align: right;\n",
              "    }\n",
              "</style>\n",
              "<table border=\"1\" class=\"dataframe\">\n",
              "  <thead>\n",
              "    <tr style=\"text-align: right;\">\n",
              "      <th></th>\n",
              "      <th>temperature</th>\n",
              "      <th>humidity</th>\n",
              "      <th>Dishwasher [kW]</th>\n",
              "      <th>Furnace 2 [kW]</th>\n",
              "      <th>Fridge [kW]</th>\n",
              "      <th>Garage door [kW]</th>\n",
              "      <th>Kitchen 14 [kW]</th>\n",
              "      <th>Barn [kW]</th>\n",
              "      <th>Microwave [kW]</th>\n",
              "      <th>month</th>\n",
              "    </tr>\n",
              "  </thead>\n",
              "  <tbody>\n",
              "    <tr>\n",
              "      <th>0</th>\n",
              "      <td>35.725737</td>\n",
              "      <td>0.631825</td>\n",
              "      <td>59.517171</td>\n",
              "      <td>260.196833</td>\n",
              "      <td>94.740300</td>\n",
              "      <td>15.228367</td>\n",
              "      <td>10.935817</td>\n",
              "      <td>99.622950</td>\n",
              "      <td>12.961117</td>\n",
              "      <td>1.0</td>\n",
              "    </tr>\n",
              "    <tr>\n",
              "      <th>1</th>\n",
              "      <td>31.692569</td>\n",
              "      <td>0.580056</td>\n",
              "      <td>63.154404</td>\n",
              "      <td>359.091400</td>\n",
              "      <td>74.851733</td>\n",
              "      <td>19.246333</td>\n",
              "      <td>14.503251</td>\n",
              "      <td>185.776967</td>\n",
              "      <td>12.480300</td>\n",
              "      <td>1.0</td>\n",
              "    </tr>\n",
              "    <tr>\n",
              "      <th>2</th>\n",
              "      <td>33.273625</td>\n",
              "      <td>0.613597</td>\n",
              "      <td>105.508668</td>\n",
              "      <td>338.935050</td>\n",
              "      <td>92.149033</td>\n",
              "      <td>19.444933</td>\n",
              "      <td>18.030351</td>\n",
              "      <td>146.493667</td>\n",
              "      <td>19.066117</td>\n",
              "      <td>1.0</td>\n",
              "    </tr>\n",
              "    <tr>\n",
              "      <th>3</th>\n",
              "      <td>22.297722</td>\n",
              "      <td>0.598597</td>\n",
              "      <td>58.880760</td>\n",
              "      <td>318.407883</td>\n",
              "      <td>71.016683</td>\n",
              "      <td>19.249983</td>\n",
              "      <td>16.210219</td>\n",
              "      <td>47.837017</td>\n",
              "      <td>20.249933</td>\n",
              "      <td>1.0</td>\n",
              "    </tr>\n",
              "    <tr>\n",
              "      <th>4</th>\n",
              "      <td>11.950139</td>\n",
              "      <td>0.535292</td>\n",
              "      <td>72.973254</td>\n",
              "      <td>387.997850</td>\n",
              "      <td>80.135633</td>\n",
              "      <td>19.773067</td>\n",
              "      <td>13.866869</td>\n",
              "      <td>50.166067</td>\n",
              "      <td>16.658967</td>\n",
              "      <td>1.0</td>\n",
              "    </tr>\n",
              "  </tbody>\n",
              "</table>\n",
              "</div>\n",
              "      <button class=\"colab-df-convert\" onclick=\"convertToInteractive('df-7b0215c9-6550-4a58-a957-02a875ea1eeb')\"\n",
              "              title=\"Convert this dataframe to an interactive table.\"\n",
              "              style=\"display:none;\">\n",
              "        \n",
              "  <svg xmlns=\"http://www.w3.org/2000/svg\" height=\"24px\"viewBox=\"0 0 24 24\"\n",
              "       width=\"24px\">\n",
              "    <path d=\"M0 0h24v24H0V0z\" fill=\"none\"/>\n",
              "    <path d=\"M18.56 5.44l.94 2.06.94-2.06 2.06-.94-2.06-.94-.94-2.06-.94 2.06-2.06.94zm-11 1L8.5 8.5l.94-2.06 2.06-.94-2.06-.94L8.5 2.5l-.94 2.06-2.06.94zm10 10l.94 2.06.94-2.06 2.06-.94-2.06-.94-.94-2.06-.94 2.06-2.06.94z\"/><path d=\"M17.41 7.96l-1.37-1.37c-.4-.4-.92-.59-1.43-.59-.52 0-1.04.2-1.43.59L10.3 9.45l-7.72 7.72c-.78.78-.78 2.05 0 2.83L4 21.41c.39.39.9.59 1.41.59.51 0 1.02-.2 1.41-.59l7.78-7.78 2.81-2.81c.8-.78.8-2.07 0-2.86zM5.41 20L4 18.59l7.72-7.72 1.47 1.35L5.41 20z\"/>\n",
              "  </svg>\n",
              "      </button>\n",
              "      \n",
              "  <style>\n",
              "    .colab-df-container {\n",
              "      display:flex;\n",
              "      flex-wrap:wrap;\n",
              "      gap: 12px;\n",
              "    }\n",
              "\n",
              "    .colab-df-convert {\n",
              "      background-color: #E8F0FE;\n",
              "      border: none;\n",
              "      border-radius: 50%;\n",
              "      cursor: pointer;\n",
              "      display: none;\n",
              "      fill: #1967D2;\n",
              "      height: 32px;\n",
              "      padding: 0 0 0 0;\n",
              "      width: 32px;\n",
              "    }\n",
              "\n",
              "    .colab-df-convert:hover {\n",
              "      background-color: #E2EBFA;\n",
              "      box-shadow: 0px 1px 2px rgba(60, 64, 67, 0.3), 0px 1px 3px 1px rgba(60, 64, 67, 0.15);\n",
              "      fill: #174EA6;\n",
              "    }\n",
              "\n",
              "    [theme=dark] .colab-df-convert {\n",
              "      background-color: #3B4455;\n",
              "      fill: #D2E3FC;\n",
              "    }\n",
              "\n",
              "    [theme=dark] .colab-df-convert:hover {\n",
              "      background-color: #434B5C;\n",
              "      box-shadow: 0px 1px 3px 1px rgba(0, 0, 0, 0.15);\n",
              "      filter: drop-shadow(0px 1px 2px rgba(0, 0, 0, 0.3));\n",
              "      fill: #FFFFFF;\n",
              "    }\n",
              "  </style>\n",
              "\n",
              "      <script>\n",
              "        const buttonEl =\n",
              "          document.querySelector('#df-7b0215c9-6550-4a58-a957-02a875ea1eeb button.colab-df-convert');\n",
              "        buttonEl.style.display =\n",
              "          google.colab.kernel.accessAllowed ? 'block' : 'none';\n",
              "\n",
              "        async function convertToInteractive(key) {\n",
              "          const element = document.querySelector('#df-7b0215c9-6550-4a58-a957-02a875ea1eeb');\n",
              "          const dataTable =\n",
              "            await google.colab.kernel.invokeFunction('convertToInteractive',\n",
              "                                                     [key], {});\n",
              "          if (!dataTable) return;\n",
              "\n",
              "          const docLinkHtml = 'Like what you see? Visit the ' +\n",
              "            '<a target=\"_blank\" href=https://colab.research.google.com/notebooks/data_table.ipynb>data table notebook</a>'\n",
              "            + ' to learn more about interactive tables.';\n",
              "          element.innerHTML = '';\n",
              "          dataTable['output_type'] = 'display_data';\n",
              "          await google.colab.output.renderOutput(dataTable, element);\n",
              "          const docLink = document.createElement('div');\n",
              "          docLink.innerHTML = docLinkHtml;\n",
              "          element.appendChild(docLink);\n",
              "        }\n",
              "      </script>\n",
              "    </div>\n",
              "  </div>\n",
              "  "
            ]
          },
          "metadata": {},
          "execution_count": 17
        }
      ]
    },
    {
      "cell_type": "code",
      "source": [
        "from sklearn.model_selection import train_test_split\n",
        "X_train, X_test, y_train, y_test = train_test_split(features,target,\n",
        "                                                    test_size=0.2)"
      ],
      "metadata": {
        "id": "rmVOOeG3MAN7"
      },
      "execution_count": 25,
      "outputs": []
    },
    {
      "cell_type": "code",
      "source": [
        "from sklearn.linear_model import LinearRegression\n",
        "reg = LinearRegression().fit(X_train, y_train)\n",
        "y_pred= reg.predict(X_train)"
      ],
      "metadata": {
        "id": "6pxQ0dpOTsA_"
      },
      "execution_count": 26,
      "outputs": []
    },
    {
      "cell_type": "code",
      "source": [
        "import sklearn\n",
        "r2 = sklearn.metrics.r2_score(y_train, y_pred)\n"
      ],
      "metadata": {
        "id": "5Y07F4EXVYVJ"
      },
      "execution_count": 27,
      "outputs": []
    },
    {
      "cell_type": "code",
      "source": [
        "r2"
      ],
      "metadata": {
        "colab": {
          "base_uri": "https://localhost:8080/"
        },
        "id": "Cp7iFRn4WYO7",
        "outputId": "1f4ea31c-bed9-476e-ddd6-d4c767a0b81d"
      },
      "execution_count": 28,
      "outputs": [
        {
          "output_type": "execute_result",
          "data": {
            "text/plain": [
              "0.6926611517692086"
            ]
          },
          "metadata": {},
          "execution_count": 28
        }
      ]
    },
    {
      "cell_type": "code",
      "source": [
        "from sklearn.linear_model import Ridge\n",
        "ridge = Ridge(alpha=0.3)\n",
        "ridge.fit(X_train,y_train)\n",
        "print (\"Ridge model:\", (ridge.coef_))"
      ],
      "metadata": {
        "colab": {
          "base_uri": "https://localhost:8080/"
        },
        "id": "fUDIM9o7WlDI",
        "outputId": "1cac1683-26a5-46d0-b4b7-f33bec7c7a5d"
      },
      "execution_count": 70,
      "outputs": [
        {
          "output_type": "stream",
          "name": "stdout",
          "text": [
            "Ridge model: [ 14.58120455 -21.50751124   1.19857492   5.98951899  10.11717645\n",
            "   3.61744755  11.26157785   1.09670314   6.7145482   35.30432288]\n"
          ]
        }
      ]
    },
    {
      "cell_type": "code",
      "source": [
        "print(ridge.score(X_train, y_train))\n",
        "print(ridge.score(X_test, y_test))"
      ],
      "metadata": {
        "colab": {
          "base_uri": "https://localhost:8080/"
        },
        "id": "Avi27JKYYvO3",
        "outputId": "cd51c34e-2840-455d-8870-6fd4b39f7981"
      },
      "execution_count": 71,
      "outputs": [
        {
          "output_type": "stream",
          "name": "stdout",
          "text": [
            "0.6926610582681795\n",
            "0.597443331314714\n"
          ]
        }
      ]
    },
    {
      "cell_type": "code",
      "source": [
        "from sklearn.linear_model import Lasso\n",
        "\n",
        "lasso = Lasso(alpha=0.2)\n",
        "lasso.fit(X_train,y_train)\n",
        "print(lasso.score(X_train, y_train))\n",
        "print(lasso.score(X_test, y_test))"
      ],
      "metadata": {
        "colab": {
          "base_uri": "https://localhost:8080/"
        },
        "id": "C8xrsqIXY4Xm",
        "outputId": "ce8ac2ee-42ee-478e-8104-ec58ca4568d5"
      },
      "execution_count": 72,
      "outputs": [
        {
          "output_type": "stream",
          "name": "stdout",
          "text": [
            "0.6926547063523001\n",
            "0.5972338254682883\n"
          ]
        }
      ]
    },
    {
      "cell_type": "code",
      "source": [],
      "metadata": {
        "id": "0ykSVKX6Fj9d"
      },
      "execution_count": 56,
      "outputs": []
    }
  ]
}